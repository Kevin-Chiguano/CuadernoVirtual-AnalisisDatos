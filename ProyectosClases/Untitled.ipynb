{
 "cells": [
  {
   "cell_type": "markdown",
   "id": "2f469d5b-8cf3-4136-9509-212bbeeb7004",
   "metadata": {},
   "source": [
    "# Funcion de Python\n",
    "una funcion te permite definir un bloque de codigo reutilizable que se puede ejecutar muchass veces.\n",
    "## Sintaxis\n",
    "def nombre_funcion(si recibimos algun parametro)"
   ]
  },
  {
   "cell_type": "code",
   "execution_count": 4,
   "id": "7d40705f-8107-4721-a0b2-4047ee34937b",
   "metadata": {},
   "outputs": [
    {
     "name": "stdout",
     "output_type": "stream",
     "text": [
      "hola programador\n"
     ]
    }
   ],
   "source": [
    "def diHola():\n",
    "    print(\"hola programador\")\n",
    "\n",
    "#llama la funcion\n",
    "diHola()"
   ]
  },
  {
   "cell_type": "code",
   "execution_count": 8,
   "id": "6062df64-d795-4547-97eb-dc16348695ec",
   "metadata": {},
   "outputs": [
    {
     "name": "stdin",
     "output_type": "stream",
     "text": [
      "Ingrese su nombre:  kevin\n"
     ]
    },
    {
     "name": "stdout",
     "output_type": "stream",
     "text": [
      "Hola kevin\n"
     ]
    }
   ],
   "source": [
    "# Funcion donde recibe un parametro\n",
    "def holaConNombre (nombre):\n",
    "  print(\"Hola\",nombre)  \n",
    "\n",
    "nombre= input(\"Ingrese su nombre: \")\n",
    "\n",
    "holaConNombre(nombre)"
   ]
  },
  {
   "cell_type": "code",
   "execution_count": 30,
   "id": "07de1652-ce04-46ba-8989-96ef85ebef8b",
   "metadata": {},
   "outputs": [
    {
     "name": "stdin",
     "output_type": "stream",
     "text": [
      "Ingrese el primer numero :  7\n",
      "Ingrese el segundo numero:  7\n",
      "Ingrese el tercer numero :  1\n"
     ]
    },
    {
     "name": "stdout",
     "output_type": "stream",
     "text": [
      "no se puede calcular numeros iguales\n"
     ]
    }
   ],
   "source": [
    "#funcion que reciba 3 parametros enteros y me calcule el numero mayor, menor e intermedio.\n",
    "n1= input(\"Ingrese el primer numero : \")\n",
    "n2= input(\"Ingrese el segundo numero: \")\n",
    "n3= input(\"Ingrese el tercer numero : \")\n",
    "def numeros (n1,n2,n3):\n",
    "    if(n1 == n2) or (n1 == n3) or(n2==n3):\n",
    "        print (\"no se puede calcular numeros iguales\")\n",
    "        \n",
    "    if(n1>n2 and n1>n3) and (n2>n3):\n",
    "        print(\"mayor     : \",n1)\n",
    "        print(\"intermedio: \",n2)\n",
    "        print(\"menor     : \",n3)\n",
    "        \n",
    "    if(n1>n2 and n1>n3) and (n3>n2):\n",
    "        print(\"mayor     : \",n1)\n",
    "        print(\"intermedio: \",n3)\n",
    "        print(\"menor     : \",n2)\n",
    "        \n",
    "    if(n2>n1 and n2>n3) and (n1>n3):\n",
    "        print(\"mayor     : \",n2)\n",
    "        print(\"intermedio: \",n1)\n",
    "        print(\"menor     : \",n3)\n",
    "\n",
    "    if(n2>n1 and n2>n3) and (n3>n1):\n",
    "        print(\"mayor     : \",n2)\n",
    "        print(\"intermedio: \",n3)\n",
    "        print(\"menor     : \",n1)\n",
    "    \n",
    "    if(n3>n1 and n3>n2) and (n1>n2):\n",
    "        print(\"mayor     : \",n3)\n",
    "        print(\"intermedio: \",n1)\n",
    "        print(\"menor     : \",n2)\n",
    "        \n",
    "    if(n3>n1 and n3>n2) and (n2>n1):\n",
    "        print(\"mayor     : \",n3)\n",
    "        print(\"intermedio: \",n2)\n",
    "        print(\"menor     : \",n1)\n",
    "\n",
    "    \n",
    "    \n",
    "numeros(n1,n2,n3)\n"
   ]
  },
  {
   "cell_type": "code",
   "execution_count": 52,
   "id": "d98ac371-1c66-4b8e-83fb-0314c878c1cd",
   "metadata": {},
   "outputs": [
    {
     "name": "stdin",
     "output_type": "stream",
     "text": [
      "Ingrese el primer numero :  1\n",
      "Ingrese el segundo numero:  10\n"
     ]
    },
    {
     "name": "stdout",
     "output_type": "stream",
     "text": [
      "1\n",
      "2\n",
      "3\n",
      "4\n",
      "5\n",
      "6\n",
      "7\n",
      "8\n",
      "9\n",
      "10\n"
     ]
    }
   ],
   "source": [
    "n1= int(input(\"Ingrese el primer numero : \"))\n",
    "n2= int(input(\"Ingrese el segundo numero: \"))\n",
    "def secuencia(n1,n2):\n",
    "    \n",
    "    for i in range(n1,n2+1):\n",
    "        print (i)\n",
    "\n",
    "secuencia(n1,n2)"
   ]
  },
  {
   "cell_type": "code",
   "execution_count": null,
   "id": "08b6c62d-16f1-4936-8754-0396787a7548",
   "metadata": {},
   "outputs": [],
   "source": [
    "#Estructura de repeticion FOR\n",
    "es un ciclo de repeticion que me permite repetir una seccion de codigo\n",
    "## sintaxis\n",
    "for i in range(1,10):\n",
    "    print (i)\n",
    "    "
   ]
  },
  {
   "cell_type": "code",
   "execution_count": null,
   "id": "247b14f4-1e29-4e38-b904-7c3570d2572d",
   "metadata": {},
   "outputs": [],
   "source": [
    "num=[1,2,3,4]\n",
    "for i in num:\n",
    "    print i"
   ]
  },
  {
   "cell_type": "code",
   "execution_count": 58,
   "id": "3d0343f0-a948-437f-9094-c89292bc12d9",
   "metadata": {},
   "outputs": [
    {
     "name": "stdin",
     "output_type": "stream",
     "text": [
      "Ingresa un número para verificar si es perfecto:  27\n"
     ]
    },
    {
     "name": "stdout",
     "output_type": "stream",
     "text": [
      "El número 27 no es perfecto.\n"
     ]
    }
   ],
   "source": [
    "#una funcion que reciba un numero y verifique que ese numero sea perfecto o no\n",
    "def es_numero_perfecto(n):\n",
    "    if n <= 0:\n",
    "        return False\n",
    "    \n",
    "    suma_divisores = sum(i for i in range(1, n) if n % i == 0)\n",
    "    \n",
    "    return suma_divisores == n\n",
    "\n",
    "\n",
    "numero = int(input(\"Ingresa un número para verificar si es perfecto: \"))\n",
    "\n",
    "if es_numero_perfecto(numero):\n",
    "    print(f\"El número {numero} es perfecto.\")\n",
    "else:\n",
    "    print(f\"El número {numero} no es perfecto.\")\n",
    "\n"
   ]
  },
  {
   "cell_type": "code",
   "execution_count": 5,
   "id": "57594516-6076-4ef0-8737-62aea89ff214",
   "metadata": {},
   "outputs": [
    {
     "name": "stdin",
     "output_type": "stream",
     "text": [
      "Ingrese el numero :  5\n"
     ]
    },
    {
     "name": "stdout",
     "output_type": "stream",
     "text": [
      "El numero no es perfecto\n"
     ]
    }
   ],
   "source": [
    "#Nombre: Kevin Chiguano\n",
    "#Fecha: 8/1/2025\n",
    "#Version: 1.0\n",
    "num= int(input(\"Ingrese el numero : \"))\n",
    "def perfecto (num):\n",
    "    suma=0\n",
    "    for i in range(1,num):\n",
    "        if num % i==0:\n",
    "            suma=suma+i\n",
    "           \n",
    "    if(sum == num ):\n",
    "        print  (\"El numero es perfecto\")\n",
    "    else:\n",
    "        print(\"El numero no es perfecto\")\n",
    "\n",
    "perfecto(num)\n",
    "            \n",
    "        \n",
    "    "
   ]
  },
  {
   "cell_type": "code",
   "execution_count": null,
   "id": "56144f11-1e15-463f-aae7-7e0e71254f20",
   "metadata": {},
   "outputs": [],
   "source": []
  }
 ],
 "metadata": {
  "kernelspec": {
   "display_name": "Python [conda env:base] *",
   "language": "python",
   "name": "conda-base-py"
  },
  "language_info": {
   "codemirror_mode": {
    "name": "ipython",
    "version": 3
   },
   "file_extension": ".py",
   "mimetype": "text/x-python",
   "name": "python",
   "nbconvert_exporter": "python",
   "pygments_lexer": "ipython3",
   "version": "3.12.7"
  }
 },
 "nbformat": 4,
 "nbformat_minor": 5
}
