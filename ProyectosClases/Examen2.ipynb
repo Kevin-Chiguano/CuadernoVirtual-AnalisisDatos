{
 "cells": [
  {
   "cell_type": "code",
   "execution_count": 60,
   "id": "8d1faae8-ea6c-4682-8bb5-fba25dd4a42f",
   "metadata": {},
   "outputs": [
    {
     "name": "stdout",
     "output_type": "stream",
     "text": [
      "      PROVINCIA  MUNICIPIO  ESTACION  MAGNITUD PUNTO_MUESTREO   ANO  MES  \\\n",
      "0            28         79         4         1  28079004_1_38  2016    1   \n",
      "1            28         79         4         1  28079004_1_38  2016    2   \n",
      "2            28         79         4         1  28079004_1_38  2016    3   \n",
      "3            28         79         4         1  28079004_1_38  2016    4   \n",
      "4            28         79         4         1  28079004_1_38  2016    5   \n",
      "...         ...        ...       ...       ...            ...   ...  ...   \n",
      "5449         28         79        60        14  28079060_14_6  2019    8   \n",
      "5450         28         79        60        14  28079060_14_6  2019    9   \n",
      "5451         28         79        60        14  28079060_14_6  2019   10   \n",
      "5452         28         79        60        14  28079060_14_6  2019   11   \n",
      "5453         28         79        60        14  28079060_14_6  2019   12   \n",
      "\n",
      "       D01 V01    D02  ...   D27  V27   D28  V28   D29  V29    D30  V30   D31  \\\n",
      "0      8.0   V    7.0  ...   9.0    V   7.0    V   8.0    V    9.0    V   9.0   \n",
      "1     12.0   V   13.0  ...   7.0    V   8.0    V   9.0    V    0.0    N   0.0   \n",
      "2     11.0   V   10.0  ...   8.0    V   7.0    V   8.0    V   10.0    V   8.0   \n",
      "3      8.0   V    9.0  ...   9.0    V   8.0    V   8.0    V    8.0    V   0.0   \n",
      "4      7.0   V    8.0  ...   7.0    V   7.0    V   7.0    V    7.0    V   7.0   \n",
      "...    ...  ..    ...  ...   ...  ...   ...  ...   ...  ...    ...  ...   ...   \n",
      "5449  94.0   V  104.0  ...  88.0    V  90.0    V  99.0    V  108.0    V  98.0   \n",
      "5450  88.0   V   82.0  ...  54.0    V  68.0    V  70.0    V   55.0    V   0.0   \n",
      "5451  44.0   V   75.0  ...  28.0    V  33.0    V  16.0    V   19.0    V  47.0   \n",
      "5452  41.0   V   55.0  ...  55.0    V  52.0    V  47.0    V   56.0    V   0.0   \n",
      "5453  47.0   V   53.0  ...  17.0    V  13.0    V  14.0    V    5.0    V   4.0   \n",
      "\n",
      "      V31  \n",
      "0       V  \n",
      "1       N  \n",
      "2       V  \n",
      "3       N  \n",
      "4       V  \n",
      "...   ...  \n",
      "5449    V  \n",
      "5450    N  \n",
      "5451    V  \n",
      "5452    N  \n",
      "5453    V  \n",
      "\n",
      "[5454 rows x 69 columns]\n"
     ]
    }
   ],
   "source": [
    "import pandas as pd\n",
    "\n",
    "# 1. Generar un DataFrame con los datos de los tres ficheros\n",
    "ficheros = ['emisiones-2016.csv', 'emisiones-2018.csv', 'emisiones-2019.csv']\n",
    "df_list = []\n",
    "\n",
    "for fichero in ficheros:\n",
    "    df = pd.read_csv(fichero, delimiter=';')  \n",
    "    df_list.append(df)\n",
    "df_completo = pd.concat(df_list, ignore_index=True)\n",
    "\n",
    "print(df_completo)"
   ]
  },
  {
   "cell_type": "code",
   "execution_count": 38,
   "id": "22105bd7-faa9-48c8-b26d-9f0c10e51433",
   "metadata": {},
   "outputs": [
    {
     "name": "stdout",
     "output_type": "stream",
     "text": [
      "      ESTACION  MAGNITUD   ANO  MES   D01    D02    D03   D04   D05   D06  \\\n",
      "0            4         1  2016    1   8.0    7.0    6.0   6.0   7.0   6.0   \n",
      "1            4         1  2016    2  12.0   13.0    9.0   9.0  11.0   9.0   \n",
      "2            4         1  2016    3  11.0   10.0    9.0   9.0   7.0   8.0   \n",
      "3            4         1  2016    4   8.0    9.0    9.0   8.0   8.0   9.0   \n",
      "4            4         1  2016    5   7.0    8.0    9.0   9.0   8.0   8.0   \n",
      "...        ...       ...   ...  ...   ...    ...    ...   ...   ...   ...   \n",
      "5449        60        14  2019    8  94.0  104.0  106.0  99.0  77.0  82.0   \n",
      "5450        60        14  2019    9  88.0   82.0   80.0  92.0  79.0  75.0   \n",
      "5451        60        14  2019   10  44.0   75.0   44.0  54.0  65.0  68.0   \n",
      "5452        60        14  2019   11  41.0   55.0   79.0  65.0  64.0  51.0   \n",
      "5453        60        14  2019   12  47.0   53.0   45.0  44.0  49.0  41.0   \n",
      "\n",
      "      ...   D22   D23    D24   D25   D26   D27   D28   D29    D30   D31  \n",
      "0     ...  10.0  11.0   11.0  13.0  12.0   9.0   7.0   8.0    9.0   9.0  \n",
      "1     ...  11.0  10.0    9.0   8.0   7.0   7.0   8.0   9.0    0.0   0.0  \n",
      "2     ...   8.0   8.0    9.0   9.0   9.0   8.0   7.0   8.0   10.0   8.0  \n",
      "3     ...   8.0   8.0    8.0   8.0   9.0   9.0   8.0   8.0    8.0   0.0  \n",
      "4     ...   7.0   7.0    8.0   7.0   7.0   7.0   7.0   7.0    7.0   7.0  \n",
      "...   ...   ...   ...    ...   ...   ...   ...   ...   ...    ...   ...  \n",
      "5449  ...  86.0  97.0  104.0  96.0  85.0  88.0  90.0  99.0  108.0  98.0  \n",
      "5450  ...  59.0  46.0   49.0  69.0  57.0  54.0  68.0  70.0   55.0   0.0  \n",
      "5451  ...  37.0  39.0   45.0  21.0  23.0  28.0  33.0  16.0   19.0  47.0  \n",
      "5452  ...  38.0  75.0   69.0  45.0  35.0  55.0  52.0  47.0   56.0   0.0  \n",
      "5453  ...  68.0  36.0    9.0  11.0  10.0  17.0  13.0  14.0    5.0   4.0  \n",
      "\n",
      "[5454 rows x 35 columns]\n"
     ]
    }
   ],
   "source": [
    "import pandas as pd\n",
    "# 2. Filtrar las columnas del DataFrame\n",
    "columnas_interes = ['ESTACION', 'MAGNITUD', 'ANO', 'MES'] + [f'D{i:02d}' for i in range(1, 32)] \n",
    "df_completo = df_completo[columnas_interes]\n",
    "\n",
    "print(df_completo)\n"
   ]
  },
  {
   "cell_type": "code",
   "execution_count": 62,
   "id": "90ebb3f3-f274-4e6e-847b-53d33908caac",
   "metadata": {},
   "outputs": [
    {
     "name": "stdout",
     "output_type": "stream",
     "text": [
      "        ESTACION  MAGNITUD   ANO  MES  DIA  VALOR\n",
      "0              4         1  2016    1  D01    8.0\n",
      "1              4         1  2016    2  D01   12.0\n",
      "2              4         1  2016    3  D01   11.0\n",
      "3              4         1  2016    4  D01    8.0\n",
      "4              4         1  2016    5  D01    7.0\n",
      "...          ...       ...   ...  ...  ...    ...\n",
      "169069        60        14  2019    8  D31   98.0\n",
      "169070        60        14  2019    9  D31    0.0\n",
      "169071        60        14  2019   10  D31   47.0\n",
      "169072        60        14  2019   11  D31    0.0\n",
      "169073        60        14  2019   12  D31    4.0\n",
      "\n",
      "[169074 rows x 6 columns]\n"
     ]
    }
   ],
   "source": [
    "import pandas as pd\n",
    "# 3. Reestructurar el DataFrame para que los valores de los contaminantes \n",
    "# de las columnas de los días aparezcan en una única columna\n",
    "df_reshaped = df_completo.melt(id_vars=['ESTACION', 'MAGNITUD', 'ANO', 'MES'], \n",
    "                               value_vars=[f'D{i:02d}' for i in range(1, 32)], \n",
    "                               var_name='DIA', \n",
    "                               value_name='VALOR')\n",
    "\n",
    "print(df_reshaped)\n"
   ]
  },
  {
   "cell_type": "code",
   "execution_count": 122,
   "id": "f4ceda26-6f20-4c46-9b79-ed56d59f9055",
   "metadata": {},
   "outputs": [
    {
     "name": "stdout",
     "output_type": "stream",
     "text": [
      "        ESTACION  MAGNITUD   ANO  MES  DIA  VALOR   FECHA_STR      FECHA\n",
      "0              4         1  2016    1    1    8.0  2016-01-01 2016-01-01\n",
      "1              4         1  2016    2    1   12.0  2016-02-01 2016-02-01\n",
      "2              4         1  2016    3    1   11.0  2016-03-01 2016-03-01\n",
      "3              4         1  2016    4    1    8.0  2016-04-01 2016-04-01\n",
      "4              4         1  2016    5    1    7.0  2016-05-01 2016-05-01\n",
      "...          ...       ...   ...  ...  ...    ...         ...        ...\n",
      "169069        60        14  2019    8   31   98.0  2019-08-31 2019-08-31\n",
      "169070        60        14  2019    9   31    0.0  2019-09-31        NaT\n",
      "169071        60        14  2019   10   31   47.0  2019-10-31 2019-10-31\n",
      "169072        60        14  2019   11   31    0.0  2019-11-31        NaT\n",
      "169073        60        14  2019   12   31    4.0  2019-12-31 2019-12-31\n",
      "\n",
      "[169074 rows x 8 columns]\n"
     ]
    }
   ],
   "source": [
    "import pandas as pd\n",
    "\n",
    "# 1. Generar un DataFrame con los datos de los tres ficheros\n",
    "ficheros = ['emisiones-2016.csv', 'emisiones-2018.csv', 'emisiones-2019.csv']\n",
    "df_list = []\n",
    "\n",
    "for fichero in ficheros:\n",
    "    df = pd.read_csv(fichero, delimiter=';')  # Asegúrate de usar el delimitador correcto\n",
    "    df_list.append(df)\n",
    "df_completo = pd.concat(df_list, ignore_index=True)\n",
    "\n",
    "# 2. Filtrar las columnas del DataFrame\n",
    "columnas_interes = ['ESTACION', 'MAGNITUD', 'ANO', 'MES'] + [f'D{i:02d}' for i in range(1, 32)]  # D01 a D31\n",
    "df_completo = df_completo[columnas_interes]\n",
    "\n",
    "# 3. Reestructurar el DataFrame para que los valores de los contaminantes de las columnas de los días aparezcan en una única columna\n",
    "df_reshaped = df_completo.melt(id_vars=['ESTACION', 'MAGNITUD', 'ANO', 'MES'], \n",
    "                               value_vars=[f'D{i:02d}' for i in range(1, 32)], \n",
    "                               var_name='DIA', \n",
    "                               value_name='VALOR')\n",
    "\n",
    "# 4. Extraer el número del día y convertirlo en un entero\n",
    "df_reshaped['DIA'] = df_reshaped['DIA'].str.extract(r'(\\d+)').astype(int)\n",
    "\n",
    "# Filtrar filas con valores nulos en las columnas relevantes\n",
    "df_reshaped_clean = df_reshaped.dropna(subset=['ANO', 'MES', 'DIA'])\n",
    "\n",
    "# Limpiar los días fuera del rango (1-31)\n",
    "df_reshaped_clean = df_reshaped_clean[(df_reshaped_clean['DIA'] >= 1) & (df_reshaped_clean['DIA'] <= 31)]\n",
    "\n",
    "df_reshaped_clean['FECHA_STR'] = df_reshaped_clean['ANO'].astype(str) + '-' + df_reshaped_clean['MES'].apply(lambda x: f'{x:02d}') + '-' + df_reshaped_clean['DIA'].apply(lambda x: f'{x:02d}')\n",
    "\n",
    "df_reshaped_clean['FECHA'] = pd.to_datetime(df_reshaped_clean['FECHA_STR'], errors='coerce')\n",
    "\n",
    "print(df_reshaped_clean)"
   ]
  },
  {
   "cell_type": "code",
   "execution_count": 131,
   "id": "3e72d0df-3475-4c34-8007-f2a8bc8bbdd1",
   "metadata": {},
   "outputs": [
    {
     "name": "stdout",
     "output_type": "stream",
     "text": [
      "        ESTACION  MAGNITUD   ANO  MES  DIA  VALOR   FECHA_STR      FECHA\n",
      "0              4         1  2016    1    1    8.0  2016-01-01 2016-01-01\n",
      "1              4         1  2016    1    2    7.0  2016-01-02 2016-01-02\n",
      "2              4         1  2016    1    3    6.0  2016-01-03 2016-01-03\n",
      "3              4         1  2016    1    4    6.0  2016-01-04 2016-01-04\n",
      "4              4         1  2016    1    5    7.0  2016-01-05 2016-01-05\n",
      "...          ...       ...   ...  ...  ...    ...         ...        ...\n",
      "166038        60        14  2019   12   27   17.0  2019-12-27 2019-12-27\n",
      "166039        60        14  2019   12   28   13.0  2019-12-28 2019-12-28\n",
      "166040        60        14  2019   12   29   14.0  2019-12-29 2019-12-29\n",
      "166041        60        14  2019   12   30    5.0  2019-12-30 2019-12-30\n",
      "166042        60        14  2019   12   31    4.0  2019-12-31 2019-12-31\n",
      "\n",
      "[166043 rows x 8 columns]\n"
     ]
    }
   ],
   "source": [
    "import numpy as np\n",
    "\n",
    "# 5. Eliminar las filas con fechas no válidas usando \n",
    "df_final = df_reshaped_clean[~np.isnat(df_reshaped_clean['FECHA'].values)]\n",
    "\n",
    "\n",
    "df_final = df_final.sort_values(['ESTACION', 'MAGNITUD', 'FECHA'])\n",
    "\n",
    "df_final = df_final.reset_index(drop=True)\n",
    "\n",
    "print(df_final)"
   ]
  },
  {
   "cell_type": "code",
   "execution_count": null,
   "id": "d022866a-84e2-4201-853d-978e61c11530",
   "metadata": {},
   "outputs": [],
   "source": []
  },
  {
   "cell_type": "code",
   "execution_count": null,
   "id": "f490b6ef-3c2d-4dc4-8514-8484fbb7504a",
   "metadata": {},
   "outputs": [],
   "source": []
  }
 ],
 "metadata": {
  "kernelspec": {
   "display_name": "Python [conda env:base] *",
   "language": "python",
   "name": "conda-base-py"
  },
  "language_info": {
   "codemirror_mode": {
    "name": "ipython",
    "version": 3
   },
   "file_extension": ".py",
   "mimetype": "text/x-python",
   "name": "python",
   "nbconvert_exporter": "python",
   "pygments_lexer": "ipython3",
   "version": "3.12.7"
  }
 },
 "nbformat": 4,
 "nbformat_minor": 5
}
