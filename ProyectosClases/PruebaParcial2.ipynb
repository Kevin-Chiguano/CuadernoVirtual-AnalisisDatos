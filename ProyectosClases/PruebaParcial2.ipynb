{
 "cells": [
  {
   "cell_type": "code",
   "execution_count": 11,
   "id": "733ae132",
   "metadata": {},
   "outputs": [
    {
     "name": "stdout",
     "output_type": "stream",
     "text": [
      "      PROVINCIA  MUNICIPIO  ESTACION  MAGNITUD PUNTO_MUESTREO   ANO  MES  \\\n",
      "0            28         79         4         1  28079004_1_38  2016    1   \n",
      "1            28         79         4         1  28079004_1_38  2016    2   \n",
      "2            28         79         4         1  28079004_1_38  2016    3   \n",
      "3            28         79         4         1  28079004_1_38  2016    4   \n",
      "4            28         79         4         1  28079004_1_38  2016    5   \n",
      "...         ...        ...       ...       ...            ...   ...  ...   \n",
      "5449         28         79        60        14  28079060_14_6  2019    8   \n",
      "5450         28         79        60        14  28079060_14_6  2019    9   \n",
      "5451         28         79        60        14  28079060_14_6  2019   10   \n",
      "5452         28         79        60        14  28079060_14_6  2019   11   \n",
      "5453         28         79        60        14  28079060_14_6  2019   12   \n",
      "\n",
      "       D01 V01    D02  ...   D27  V27   D28  V28   D29  V29    D30  V30   D31  \\\n",
      "0      8.0   V    7.0  ...   9.0    V   7.0    V   8.0    V    9.0    V   9.0   \n",
      "1     12.0   V   13.0  ...   7.0    V   8.0    V   9.0    V    0.0    N   0.0   \n",
      "2     11.0   V   10.0  ...   8.0    V   7.0    V   8.0    V   10.0    V   8.0   \n",
      "3      8.0   V    9.0  ...   9.0    V   8.0    V   8.0    V    8.0    V   0.0   \n",
      "4      7.0   V    8.0  ...   7.0    V   7.0    V   7.0    V    7.0    V   7.0   \n",
      "...    ...  ..    ...  ...   ...  ...   ...  ...   ...  ...    ...  ...   ...   \n",
      "5449  94.0   V  104.0  ...  88.0    V  90.0    V  99.0    V  108.0    V  98.0   \n",
      "5450  88.0   V   82.0  ...  54.0    V  68.0    V  70.0    V   55.0    V   0.0   \n",
      "5451  44.0   V   75.0  ...  28.0    V  33.0    V  16.0    V   19.0    V  47.0   \n",
      "5452  41.0   V   55.0  ...  55.0    V  52.0    V  47.0    V   56.0    V   0.0   \n",
      "5453  47.0   V   53.0  ...  17.0    V  13.0    V  14.0    V    5.0    V   4.0   \n",
      "\n",
      "      V31  \n",
      "0       V  \n",
      "1       N  \n",
      "2       V  \n",
      "3       N  \n",
      "4       V  \n",
      "...   ...  \n",
      "5449    V  \n",
      "5450    N  \n",
      "5451    V  \n",
      "5452    N  \n",
      "5453    V  \n",
      "\n",
      "[5454 rows x 69 columns]\n"
     ]
    }
   ],
   "source": [
    "# Generar un DataFrame con los datos de los cuatro ficheros\n",
    "import pandas as pd\n",
    "\n",
    "# Leer los archivos CSV con separador ';'\n",
    "emision2016 = pd.read_csv('emisiones-2016.csv', sep=';')\n",
    "emision2018 = pd.read_csv('emisiones-2018.csv', sep=';')\n",
    "emision2019 = pd.read_csv('emisiones-2019.csv', sep=';')\n",
    "\n",
    "# Combinar los DataFrames en uno solo\n",
    "emisiones_combinadas = pd.concat([emision2016, emision2018, emision2019], ignore_index=True)\n",
    "\n",
    "# Mostrar el DataFrame combinado\n",
    "print(emisiones_combinadas)\n"
   ]
  },
  {
   "cell_type": "code",
   "execution_count": 19,
   "id": "c386086d",
   "metadata": {},
   "outputs": [
    {
     "name": "stdout",
     "output_type": "stream",
     "text": [
      "      ESTACION  MAGNITUD   ANO  MES   D01    D02    D03   D04   D05   D06  \\\n",
      "0            4         1  2016    1   8.0    7.0    6.0   6.0   7.0   6.0   \n",
      "1            4         1  2016    2  12.0   13.0    9.0   9.0  11.0   9.0   \n",
      "2            4         1  2016    3  11.0   10.0    9.0   9.0   7.0   8.0   \n",
      "3            4         1  2016    4   8.0    9.0    9.0   8.0   8.0   9.0   \n",
      "4            4         1  2016    5   7.0    8.0    9.0   9.0   8.0   8.0   \n",
      "...        ...       ...   ...  ...   ...    ...    ...   ...   ...   ...   \n",
      "5449        60        14  2019    8  94.0  104.0  106.0  99.0  77.0  82.0   \n",
      "5450        60        14  2019    9  88.0   82.0   80.0  92.0  79.0  75.0   \n",
      "5451        60        14  2019   10  44.0   75.0   44.0  54.0  65.0  68.0   \n",
      "5452        60        14  2019   11  41.0   55.0   79.0  65.0  64.0  51.0   \n",
      "5453        60        14  2019   12  47.0   53.0   45.0  44.0  49.0  41.0   \n",
      "\n",
      "      ...   D22   D23    D24   D25   D26   D27   D28   D29    D30   D31  \n",
      "0     ...  10.0  11.0   11.0  13.0  12.0   9.0   7.0   8.0    9.0   9.0  \n",
      "1     ...  11.0  10.0    9.0   8.0   7.0   7.0   8.0   9.0    0.0   0.0  \n",
      "2     ...   8.0   8.0    9.0   9.0   9.0   8.0   7.0   8.0   10.0   8.0  \n",
      "3     ...   8.0   8.0    8.0   8.0   9.0   9.0   8.0   8.0    8.0   0.0  \n",
      "4     ...   7.0   7.0    8.0   7.0   7.0   7.0   7.0   7.0    7.0   7.0  \n",
      "...   ...   ...   ...    ...   ...   ...   ...   ...   ...    ...   ...  \n",
      "5449  ...  86.0  97.0  104.0  96.0  85.0  88.0  90.0  99.0  108.0  98.0  \n",
      "5450  ...  59.0  46.0   49.0  69.0  57.0  54.0  68.0  70.0   55.0   0.0  \n",
      "5451  ...  37.0  39.0   45.0  21.0  23.0  28.0  33.0  16.0   19.0  47.0  \n",
      "5452  ...  38.0  75.0   69.0  45.0  35.0  55.0  52.0  47.0   56.0   0.0  \n",
      "5453  ...  68.0  36.0    9.0  11.0  10.0  17.0  13.0  14.0    5.0   4.0  \n",
      "\n",
      "[5454 rows x 35 columns]\n"
     ]
    }
   ],
   "source": [
    "# Filtrar las columnas del DataFrame para quedarse con las columnas deseadas\n",
    "columnas_deseadas = [\n",
    "    'ESTACION', 'MAGNITUD', 'ANO', 'MES', 'D01', 'D02', 'D03', 'D04', 'D05', \n",
    "    'D06', 'D07', 'D08', 'D09', 'D10', 'D11', 'D12', 'D13', 'D14', 'D15', \n",
    "    'D16', 'D17', 'D18', 'D19', 'D20', 'D21', 'D22', 'D23', 'D24', 'D25', \n",
    "    'D26', 'D27', 'D28', 'D29', 'D30', 'D31'\n",
    "]\n",
    "\n",
    "# Filtrar el DataFrame\n",
    "emisiones_filtradas = emisiones_combinadas[columnas_deseadas]\n",
    "\n",
    "# Mostrar el DataFrame filtrado\n",
    "print(emisiones_filtradas)\n"
   ]
  },
  {
   "cell_type": "code",
   "execution_count": 15,
   "id": "516e4a8a",
   "metadata": {},
   "outputs": [
    {
     "name": "stdout",
     "output_type": "stream",
     "text": [
      "        ESTACION  MAGNITUD   ANO  MES  DIA  VALOR      FECHA\n",
      "0              4         1  2016    1  D01    8.0 2016-01-01\n",
      "12             4         6  2016    1  D01    0.4 2016-01-01\n",
      "24             4         7  2016    1  D01   28.0 2016-01-01\n",
      "36             4         8  2016    1  D01   40.0 2016-01-01\n",
      "48             4        12  2016    1  D01   83.0 2016-01-01\n",
      "...          ...       ...   ...  ...  ...    ...        ...\n",
      "169025        60         7  2019   12  D31   77.0 2019-12-31\n",
      "169037        60         8  2019   12  D31   83.0 2019-12-31\n",
      "169049        60        10  2019   12  D31   25.0 2019-12-31\n",
      "169061        60        12  2019   12  D31  202.0 2019-12-31\n",
      "169073        60        14  2019   12  D31    4.0 2019-12-31\n",
      "\n",
      "[166043 rows x 7 columns]\n"
     ]
    }
   ],
   "source": [
    "# 5. Eliminar las filas con fechas no válidas (utilizar la función isnat del módulo numpy) y ordenar el DataFrame por estaciones contaminantes y fecha\n",
    "import numpy as np\n",
    "\n",
    "# Eliminar las filas con fechas no válidas\n",
    "contaminantes = contaminantes[~np.isnat(contaminantes['FECHA'])]\n",
    "\n",
    "# Ordenar el DataFrame por las columnas ESTACION y FECHA\n",
    "contaminantes = contaminantes.sort_values(by=['ESTACION', 'FECHA'])\n",
    "\n",
    "# Mostrar el DataFrame resultante\n",
    "print(contaminantes)\n"
   ]
  },
  {
   "cell_type": "code",
   "execution_count": 41,
   "id": "b8b02d28",
   "metadata": {},
   "outputs": [
    {
     "name": "stdout",
     "output_type": "stream",
     "text": [
      "        ESTACION  MAGNITUD   ANO  MES  DIA  VALOR      FECHA\n",
      "0              4         1  2016    1  D01    8.0 2016-01-01\n",
      "1              4         1  2016    2  D01   12.0 2016-02-01\n",
      "2              4         1  2016    3  D01   11.0 2016-03-01\n",
      "3              4         1  2016    4  D01    8.0 2016-04-01\n",
      "4              4         1  2016    5  D01    7.0 2016-05-01\n",
      "...          ...       ...   ...  ...  ...    ...        ...\n",
      "169069        60        14  2019    8  D31   98.0 2019-08-31\n",
      "169070        60        14  2019    9  D31    0.0        NaT\n",
      "169071        60        14  2019   10  D31   47.0 2019-10-31\n",
      "169072        60        14  2019   11  D31    0.0        NaT\n",
      "169073        60        14  2019   12  D31    4.0 2019-12-31\n",
      "\n",
      "[169074 rows x 7 columns]\n"
     ]
    }
   ],
   "source": [
    "# 3. Reestructurar el DataFrame para que los valores de los contaminantes de los días aparezcan en una única columna\n",
    "contaminantes = emisiones_filtradas.melt(id_vars=['ESTACION', 'MAGNITUD', 'ANO', 'MES'], var_name='DIA', value_name='VALOR')\n",
    "\n",
    "# 4. Añadir una columna con la fecha a partir de la concatenación del año, el mes y el día (usar el módulo datetime)\n",
    "contaminantes['FECHA'] = pd.to_datetime(contaminantes['ANO'].astype(str) + '-' + \n",
    "                                           contaminantes['MES'].astype(str).str.zfill(2) + '-' + \n",
    "                                           contaminantes['DIA'].str[1:].astype(str).str.zfill(2), \n",
    "                                           errors='coerce')\n",
    "\n",
    "# Mostrar el DataFrame resultante\n",
    "print(contaminantes)\n"
   ]
  },
  {
   "cell_type": "code",
   "execution_count": 26,
   "id": "2f675dc5",
   "metadata": {},
   "outputs": [
    {
     "name": "stdout",
     "output_type": "stream",
     "text": [
      "Estaciones disponibles: [ 4  8 11 16 17 18 24 27 35 36 38 39 40 47 48 49 50 54 55 56 57 58 59 60]\n",
      "Contaminantes disponibles: [ 1  6  7  8 12  9 10 14 20 30 35 42 43 44]\n"
     ]
    }
   ],
   "source": [
    "# 6. Mostrar las estaciones disponibles\n",
    "estaciones = contaminantes['ESTACION'].unique()\n",
    "print(\"Estaciones disponibles:\", estaciones)\n",
    "\n",
    "# Mostrar los contaminantes disponibles\n",
    "contaminantes_disponibles = contaminantes['MAGNITUD'].unique()\n",
    "print(\"Contaminantes disponibles:\", contaminantes_disponibles)\n"
   ]
  },
  {
   "cell_type": "code",
   "execution_count": 39,
   "id": "4009a9ee",
   "metadata": {},
   "outputs": [
    {
     "name": "stdout",
     "output_type": "stream",
     "text": [
      "No se encontraron emisiones para el rango de fechas especificado.\n"
     ]
    }
   ],
   "source": [
    "# 7. Definir la función para obtener emisiones por rango\n",
    "# Función para obtener emisiones por rango\n",
    "def emisiones_por_rango(estacion, contaminante, fecha_inicio, fecha_fin):\n",
    "    # Asegurarse de que las fechas de entrada estén en formato datetime\n",
    "    fecha_inicio = pd.to_datetime(fecha_inicio, errors='coerce')\n",
    "    fecha_fin = pd.to_datetime(fecha_fin, errors='coerce')\n",
    "    \n",
    "    # Verificar que las fechas están correctamente convertidas\n",
    "    if pd.isnull(fecha_inicio) or pd.isnull(fecha_fin):\n",
    "        print(\"Error: Las fechas de inicio o fin no son válidas.\")\n",
    "        return None\n",
    "    \n",
    "    # Filtrar por estación, contaminante y rango de fechas\n",
    "    filtro = (contaminantes['ESTACION'] == estacion) & \\\n",
    "             (contaminantes['MAGNITUD'] == contaminante) & \\\n",
    "             (contaminantes['FECHA'] >= fecha_inicio) & \\\n",
    "             (contaminantes['FECHA'] <= fecha_fin)\n",
    "    \n",
    "    # Filtrar las emisiones y devolver la serie de tiempo\n",
    "    serie_emisiones = contaminantes.loc[filtro, ['FECHA', 'VALOR']].dropna(subset=['VALOR'])\n",
    "\n",
    "    if serie_emisiones.empty:\n",
    "        print(\"No se encontraron emisiones\")\n",
    "        return None\n",
    "    serie_emisiones = serie_emisiones.set_index('FECHA')['VALOR']\n",
    "    \n",
    "    return serie_emisiones\n",
    "\n",
    "serie_emisiones = emisiones_por_rango('28079004_1_38', 4, '2016-01-01', '2016-12-31')\n",
    "if serie_emisiones is not None:\n",
    "    print(serie_emisiones)"
   ]
  },
  {
   "cell_type": "code",
   "execution_count": 7,
   "id": "0d6c8ade",
   "metadata": {},
   "outputs": [
    {
     "name": "stdout",
     "output_type": "stream",
     "text": [
      "            count       mean         std   min    25%    50%    75%       max\n",
      "MAGNITUD                                                                     \n",
      "1         10960.0   7.609398    7.609653  0.00   4.00   7.00  10.00    610.00\n",
      "6         10960.0   0.344635    0.179699  0.00   0.20   0.30   0.40      2.40\n",
      "7         26304.0  19.454950  154.855935  0.00   3.00   8.00  21.00  24742.00\n",
      "8         26304.0  36.393590   19.319928  0.00  22.00  33.00  49.00    148.00\n",
      "9          6758.0  10.142202   11.857026  0.00   6.00   9.00  13.00    850.00\n",
      "10        13517.0  18.400681   40.456201  0.00  10.00  16.00  23.00   4481.00\n",
      "12        26304.0  64.806911   58.340535  0.00  27.00  46.00  81.00   1005.00\n",
      "14        15344.0  50.474778   24.876844  0.00  31.00  52.00  70.00    169.00\n",
      "20         6576.0   2.291469    4.653072  0.00   0.80   1.50   2.80    195.00\n",
      "30         6576.0   0.511694    0.542254  0.00   0.20   0.30   0.60     15.10\n",
      "35         6576.0   0.501095    1.329790  0.00   0.10   0.20   0.40     35.70\n",
      "42         3288.0   1.408817    0.247303 -0.01   1.25   1.40   1.55      3.09\n",
      "43         3288.0   1.306968    0.221872 -0.07   1.17   1.29   1.44      2.77\n",
      "44         3288.0   0.102841    0.069343  0.00   0.06   0.09   0.13      1.31\n"
     ]
    }
   ],
   "source": [
    "# 8. Calcular el resumen descriptivo por tipo de contaminante\n",
    "resumen_descriptivo = contaminantes.groupby('MAGNITUD')['VALOR'].describe()\n",
    "print(resumen_descriptivo)\n"
   ]
  },
  {
   "cell_type": "code",
   "execution_count": 8,
   "id": "743682cb",
   "metadata": {},
   "outputs": [
    {
     "name": "stdout",
     "output_type": "stream",
     "text": [
      "                    count       mean        std  min   25%   50%     75%  \\\n",
      "ESTACION MAGNITUD                                                          \n",
      "4        1         1096.0   8.022810  18.827077  1.0   3.0   7.0    9.00   \n",
      "         6         1096.0   0.399635   0.169824  0.1   0.3   0.3    0.50   \n",
      "         7         1096.0  29.601277  36.043768  0.0   7.0  14.5   37.00   \n",
      "         8         1096.0  42.721715  17.034644  0.0  30.0  41.0   53.00   \n",
      "         12        1096.0  88.090328  69.019090  0.0  42.0  65.0  110.25   \n",
      "...                   ...        ...        ...  ...   ...   ...     ...   \n",
      "60       7         1096.0  11.698905  18.501256  1.0   2.0   4.0   12.00   \n",
      "         8         1096.0  29.670620  17.179793  3.0  17.0  26.0   39.00   \n",
      "         10        1096.0  16.178832  11.863953  1.0   9.0  14.0   20.00   \n",
      "         12        1096.0  47.600365  43.222404  6.0  21.0  32.0   56.00   \n",
      "         14        1096.0  61.858577  26.768432  4.0  43.0  66.0   83.00   \n",
      "\n",
      "                     max  \n",
      "ESTACION MAGNITUD         \n",
      "4        1         610.0  \n",
      "         6           1.3  \n",
      "         7         239.0  \n",
      "         8         105.0  \n",
      "         12        467.0  \n",
      "...                  ...  \n",
      "60       7         151.0  \n",
      "         8          97.0  \n",
      "         10        215.0  \n",
      "         12        328.0  \n",
      "         14        119.0  \n",
      "\n",
      "[153 rows x 8 columns]\n"
     ]
    }
   ],
   "source": [
    "# 9. Calcular el resumen descriptivo por Distrito\n",
    "resumen_por_distritos = contaminantes.groupby(['ESTACION', 'MAGNITUD'])['VALOR'].describe()\n",
    "print(resumen_por_distritos)\n"
   ]
  },
  {
   "cell_type": "code",
   "execution_count": 3,
   "id": "51369928",
   "metadata": {},
   "outputs": [
    {
     "name": "stdout",
     "output_type": "stream",
     "text": [
      "count     2.000000\n",
      "mean     55.600000\n",
      "std       7.212489\n",
      "min      50.500000\n",
      "25%      53.050000\n",
      "50%      55.600000\n",
      "75%      58.150000\n",
      "max      60.700000\n",
      "Name: VALOR, dtype: float64\n"
     ]
    }
   ],
   "source": [
    "# 10. Función para obtener el resumen descriptivo para una estación y contaminante específicos\n",
    "def resumen_descriptivo_estacion(estacion, contaminante):\n",
    "    # Verificar si hay registros que coinciden con el filtro\n",
    "    filtro = (contaminantes['ESTACION'] == estacion) & (contaminantes['MAGNITUD'] == contaminante)\n",
    "    valores_filtrados = contaminantes.loc[filtro, 'VALOR'].dropna()\n",
    "    \n",
    "    if valores_filtrados.empty:\n",
    "        return f\"No se encontraron datos para la estación {estacion} y contaminante {contaminante}\"\n",
    "    \n",
    "    return valores_filtrados.describe()\n",
    "\n",
    "resumen_estacion = resumen_descriptivo_estacion('28079004_1_38', 1)\n",
    "print(resumen_estacion)"
   ]
  },
  {
   "cell_type": "code",
   "execution_count": 10,
   "id": "a0d64025",
   "metadata": {},
   "outputs": [
    {
     "name": "stdout",
     "output_type": "stream",
     "text": [
      "MES              1          2          3          4          5          6   \\\n",
      "ESTACION                                                                     \n",
      "4          8.354839   8.551724   8.612903   8.066667   7.354839   7.266667   \n",
      "8         16.387097  17.827586  16.838710  15.400000  14.967742  17.333333   \n",
      "17         8.387097   8.551724   9.290323  16.800000  15.225806  15.333333   \n",
      "18         3.516129   3.793103   3.838710   3.266667   3.580645   4.033333   \n",
      "24         2.387097   2.172414   2.129032   2.066667   2.000000   2.100000   \n",
      "35         8.161290  10.517241  10.677419  12.433333  13.000000  16.466667   \n",
      "36        10.161290   7.310345   7.322581   6.133333   5.032258   5.933333   \n",
      "38         8.677419   4.068966   3.838710   2.766667   2.193548   2.133333   \n",
      "40         6.096774   5.793103   6.645161   5.633333   4.806452   5.300000   \n",
      "57        15.935484  16.137931  16.290323   4.766667   4.387097   4.533333   \n",
      "\n",
      "MES              7          8          9          10         11         12  \n",
      "ESTACION                                                                    \n",
      "4          7.032258   7.000000   8.100000   7.387097   4.033333   8.129032  \n",
      "8          8.548387   5.806452   8.866667  11.064516   8.966667  10.032258  \n",
      "17         8.354839   7.870968   9.066667  19.064516  11.900000  14.548387  \n",
      "18         3.548387   9.129032   7.333333   6.741935   5.166667   6.806452  \n",
      "24         2.516129   2.580645   2.500000   2.774194   2.966667   3.709677  \n",
      "35        12.741935  11.612903  13.733333  10.709677   8.566667   4.032258  \n",
      "36         6.193548   7.096774   7.966667   7.322581  12.066667   4.548387  \n",
      "38         1.774194   1.709677   2.166667   3.032258   4.766667   7.516129  \n",
      "40         3.645161   3.419355   4.533333   6.419355   8.000000  11.161290  \n",
      "57         3.741935   3.129032   4.700000   7.451613   9.633333  15.709677  \n"
     ]
    }
   ],
   "source": [
    "# 11. Función para calcular las emisiones medias mensuales de un contaminante para un año específico\n",
    "def emisiones_medias_mensuales(contaminante, ano):\n",
    "    filtro = (contaminantes['MAGNITUD'] == contaminante) & (contaminantes['ANO'] == ano)\n",
    "    return contaminantes.loc[filtro].groupby(['ESTACION', 'MES'])['VALOR'].mean().unstack()\n",
    "medias_mensuales = emisiones_medias_mensuales(1, 2016)\n",
    "print(medias_mensuales)\n"
   ]
  },
  {
   "cell_type": "code",
   "execution_count": 56,
   "id": "9275986e",
   "metadata": {},
   "outputs": [
    {
     "name": "stdout",
     "output_type": "stream",
     "text": [
      "MES\n",
      "1     8.806452\n",
      "2     8.472414\n",
      "3     8.548387\n",
      "4     7.733333\n",
      "5     7.254839\n",
      "6     8.043333\n",
      "7     5.809677\n",
      "8     5.935484\n",
      "9     6.896667\n",
      "10    8.196774\n",
      "11    7.606667\n",
      "12    8.619355\n",
      "Name: VALOR, dtype: float64\n"
     ]
    }
   ],
   "source": [
    "#12.\tCrear un función que reciba una estación de medición y \n",
    "# devuelva un DataFrame con las medias mensuales de los distintos tipos de contaminantes.\n",
    "def emisiones_medias_mensuales(contaminante, ano):\n",
    "    # Filtrar por contaminante y año\n",
    "    filtro = (contaminantes['MAGNITUD'] == contaminante) & (contaminantes['ANO'] == ano)\n",
    "    \n",
    "    # Calcular la media mensual de los valores para el contaminante seleccionado\n",
    "    return contaminantes.loc[filtro].groupby(['MES'])['VALOR'].mean()\n",
    "\n",
    "\n",
    "medias_mensuales = emisiones_medias_mensuales(1, 2016)  # Suponiendo que 1 es el código del contaminante\n",
    "print(medias_mensuales)\n"
   ]
  },
  {
   "cell_type": "code",
   "execution_count": null,
   "id": "dbe0ff30",
   "metadata": {},
   "outputs": [],
   "source": []
  }
 ],
 "metadata": {
  "kernelspec": {
   "display_name": "Python [conda env:base] *",
   "language": "python",
   "name": "conda-base-py"
  },
  "language_info": {
   "codemirror_mode": {
    "name": "ipython",
    "version": 3
   },
   "file_extension": ".py",
   "mimetype": "text/x-python",
   "name": "python",
   "nbconvert_exporter": "python",
   "pygments_lexer": "ipython3",
   "version": "3.12.7"
  }
 },
 "nbformat": 4,
 "nbformat_minor": 5
}
