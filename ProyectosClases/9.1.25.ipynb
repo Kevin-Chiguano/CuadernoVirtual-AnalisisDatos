{
 "cells": [
  {
   "cell_type": "code",
   "execution_count": 89,
   "id": "c30989c7-2332-4610-8dc6-89b994f389e6",
   "metadata": {},
   "outputs": [
    {
     "name": "stdin",
     "output_type": "stream",
     "text": [
      "Ingrese el numero:  5\n"
     ]
    },
    {
     "name": "stdout",
     "output_type": "stream",
     "text": [
      "5 x 5 = 25\n",
      "20 x 4 = 80\n",
      "60 x 3 = 180\n",
      "120 x 2 = 240\n",
      "120 x 1 = 120\n",
      "120\n"
     ]
    }
   ],
   "source": [
    "num=int(input(\"Ingrese el numero: \"))\n",
    "f=1\n",
    "for i in range(num,0,-1):\n",
    "    f=f*i\n",
    "    \n",
    "    print(f,\"x\",i,\"=\",f*i)\n",
    "print(f)\n",
    "    \n",
    "\n",
    "        "
   ]
  },
  {
   "cell_type": "code",
   "execution_count": 87,
   "id": "439c5811-01bd-4928-bae6-260f8d491c41",
   "metadata": {},
   "outputs": [
    {
     "name": "stdin",
     "output_type": "stream",
     "text": [
      "Ingrese el número:  5\n"
     ]
    },
    {
     "name": "stdout",
     "output_type": "stream",
     "text": [
      "1  *  1  =  1\n",
      "2  *  1  =  2\n",
      "3  *  2  =  6\n",
      "4  *  6  =  24\n",
      "5  *  24  =  120\n",
      "El resultado final es: 120\n"
     ]
    }
   ],
   "source": [
    "num = int(input(\"Ingrese el número: \"))\n",
    "f = 1\n",
    "for i in range(1, num + 1):\n",
    "    print(i, \" * \", f, \" = \", i * f)\n",
    "    f *= i\n",
    "    \n",
    "print(\"El resultado final es:\", f)        "
   ]
  },
  {
   "cell_type": "code",
   "execution_count": 104,
   "id": "0a4593f6-3bae-4ffb-a144-925a7e2ec192",
   "metadata": {},
   "outputs": [
    {
     "name": "stdout",
     "output_type": "stream",
     "text": [
      "[1, 2, 5]\n"
     ]
    }
   ],
   "source": [
    "lista = [1, 2, 3]\n",
    "lista[2] = 5\n",
    "print(lista)"
   ]
  },
  {
   "cell_type": "markdown",
   "id": "4f101819-739b-461b-afea-060dcc2c96fc",
   "metadata": {},
   "source": [
    "#Lista\n",
    "Lista: Una lista es una colección ordenada y mutable que permite almacenar elementos de diferentes tipos. \n",
    "Los elementos de una lista se pueden agregar, modificar o eliminar después de que la lista ha sido creada. \n",
    "Las listas se definen utilizando corchetes [].\n",
    "##Sintaxis\n",
    "lista = [1, 2, 3, \"cuatro\", True]\n",
    "\n",
    "#Tupla\n",
    "Tupla: Una tupla es una colección ordenada pero inmutable, lo que significa que no puedes modificar \n",
    "sus elementos después de haberla creado, Las tuplas se definen utilizando paréntesis ().\n",
    "##Sintaxis\n",
    "tupla = (1, 2, 3, \"cuatro\", True)\n"
   ]
  },
  {
   "cell_type": "code",
   "execution_count": 127,
   "id": "56a03a31-4ead-4e69-be5b-81b8e09cffd4",
   "metadata": {},
   "outputs": [
    {
     "name": "stdout",
     "output_type": "stream",
     "text": [
      "['Mario', 1, 2, 3.3]\n"
     ]
    },
    {
     "data": {
      "text/plain": [
       "list"
      ]
     },
     "execution_count": 127,
     "metadata": {},
     "output_type": "execute_result"
    }
   ],
   "source": [
    "milista=[\"Mario\",1,2,3.3]\n",
    "print(milista)\n",
    "type(milista)"
   ]
  },
  {
   "cell_type": "code",
   "execution_count": 121,
   "id": "2341cc41-6d3d-40a5-8125-18a88463c110",
   "metadata": {},
   "outputs": [
    {
     "name": "stdout",
     "output_type": "stream",
     "text": [
      "('kevin', 3, 7, 1)\n"
     ]
    },
    {
     "data": {
      "text/plain": [
       "tuple"
      ]
     },
     "execution_count": 121,
     "metadata": {},
     "output_type": "execute_result"
    }
   ],
   "source": [
    "mitupla=\"kevin\",3,7,1\n",
    "print(mitupla)\n",
    "type(mitupla)"
   ]
  },
  {
   "cell_type": "code",
   "execution_count": 191,
   "id": "f50dcec5-33ae-4f22-ad5c-5871f521c17a",
   "metadata": {},
   "outputs": [
    {
     "name": "stdin",
     "output_type": "stream",
     "text": [
      "Ingrese el numero 3\n",
      "Ingrese el numero a la lista 1\n",
      "Ingrese el numero a la lista 3\n",
      "Ingrese el numero a la lista 2\n"
     ]
    },
    {
     "name": "stdout",
     "output_type": "stream",
     "text": [
      "[1, 3, 2]\n",
      "3\n"
     ]
    }
   ],
   "source": [
    "numero=int(input(\"Ingrese el numero\"))\n",
    "list=[]\n",
    "mayor=0\n",
    "for i in range(0,numero,1):\n",
    "    dato=int(input(\"Ingrese el numero a la lista\"))\n",
    "    list.append(dato)\n",
    "    if(dato>mayor):\n",
    "        mayor=dato\n",
    "        \n",
    "    \n",
    "print(list)\n",
    "print(mayor)\n"
   ]
  },
  {
   "cell_type": "code",
   "execution_count": 183,
   "id": "31b02030-b090-407f-8a94-9edddb8a60e4",
   "metadata": {},
   "outputs": [
    {
     "name": "stdin",
     "output_type": "stream",
     "text": [
      "Ingrese el número de elementos en la lista:  3\n",
      "Ingrese el número a la lista:  4\n",
      "Ingrese el número a la lista:  2\n",
      "Ingrese el número a la lista:  7\n"
     ]
    },
    {
     "name": "stdout",
     "output_type": "stream",
     "text": [
      "[4, 2, 7]\n",
      "El número mayor es: 7\n"
     ]
    }
   ],
   "source": [
    "numero = int(input(\"Ingrese el número de elementos en la lista: \"))\n",
    "lista = []\n",
    "\n",
    "for i in range(numero):\n",
    "    dato = int(input(\"Ingrese el número a la lista: \"))\n",
    "    lista.append(dato)\n",
    "\n",
    "mayor = lista[0]  \n",
    "\n",
    "for dato in lista:\n",
    "    if dato > mayor:\n",
    "        mayor = dato\n",
    "\n",
    "print(lista)\n",
    "print(\"El número mayor es:\", mayor)\n"
   ]
  },
  {
   "cell_type": "code",
   "execution_count": null,
   "id": "7b807a67-50b9-4ddc-9eb3-2073d6918b49",
   "metadata": {},
   "outputs": [],
   "source": []
  }
 ],
 "metadata": {
  "kernelspec": {
   "display_name": "Python [conda env:base] *",
   "language": "python",
   "name": "conda-base-py"
  },
  "language_info": {
   "codemirror_mode": {
    "name": "ipython",
    "version": 3
   },
   "file_extension": ".py",
   "mimetype": "text/x-python",
   "name": "python",
   "nbconvert_exporter": "python",
   "pygments_lexer": "ipython3",
   "version": "3.12.7"
  }
 },
 "nbformat": 4,
 "nbformat_minor": 5
}
