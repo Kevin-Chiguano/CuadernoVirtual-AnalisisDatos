{
 "cells": [
  {
   "cell_type": "code",
   "execution_count": 44,
   "id": "1d83deea-667b-43ba-9970-65573ae68651",
   "metadata": {},
   "outputs": [
    {
     "name": "stdin",
     "output_type": "stream",
     "text": [
      "Ingrese el valor de a:  1\n",
      "Ingrese el valor de b:  50\n",
      "Ingrese el valor de c:  7\n"
     ]
    },
    {
     "name": "stdout",
     "output_type": "stream",
     "text": [
      "El discriminante es: 2472\n",
      "Las raíces reales son:\n",
      "Raíz 1:  -0.14039421068789437\n",
      "Raíz 2:  -49.859605789312106\n"
     ]
    }
   ],
   "source": [
    "import math\n",
    "\n",
    "a = int(input(\"Ingrese el valor de a: \"))\n",
    "b = int(input(\"Ingrese el valor de b: \"))\n",
    "c = int(input(\"Ingrese el valor de c: \"))\n",
    "\n",
    "def ecuacion(a, b, c):\n",
    "    if a == 0:\n",
    "        print(\"No se puede calcular, no hay division para cero.\")\n",
    "        return\n",
    "\n",
    "    raiz = (b ** 2) - (4 * a * c)\n",
    "    print(f\"El discriminante es: {raiz}\")\n",
    "\n",
    "    if raiz <= 0:\n",
    "        print(\"Error la raiz tienen un numero Imaginario\")\n",
    "    else:\n",
    "        cal1 = (-b + math.sqrt(raiz)) / (2 * a)\n",
    "        cal2 = (-b - math.sqrt(raiz)) / (2 * a)\n",
    "        print(f\"Las raíces reales son:\")\n",
    "        print(\"Raíz 1: \",cal1)\n",
    "        print(\"Raíz 2: \",cal2)\n",
    "        \n",
    "# Llamar a la función\n",
    "ecuacion(a, b, c)\n"
   ]
  },
  {
   "cell_type": "code",
   "execution_count": null,
   "id": "40b1cb8c-b5d0-4ab5-a87b-7642f9066254",
   "metadata": {},
   "outputs": [],
   "source": []
  }
 ],
 "metadata": {
  "kernelspec": {
   "display_name": "Python [conda env:base] *",
   "language": "python",
   "name": "conda-base-py"
  },
  "language_info": {
   "codemirror_mode": {
    "name": "ipython",
    "version": 3
   },
   "file_extension": ".py",
   "mimetype": "text/x-python",
   "name": "python",
   "nbconvert_exporter": "python",
   "pygments_lexer": "ipython3",
   "version": "3.12.7"
  }
 },
 "nbformat": 4,
 "nbformat_minor": 5
}
