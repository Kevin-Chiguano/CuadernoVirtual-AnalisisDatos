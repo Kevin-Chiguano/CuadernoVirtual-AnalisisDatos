{
 "cells": [
  {
   "cell_type": "markdown",
   "id": "6aa19190-c03a-44b3-8bd7-c3f09c4a523d",
   "metadata": {},
   "source": [
    "# introduccion a NumPy\n",
    "NumPy (Numerical python) es una libreria fundamental para la \n",
    "computacion cientifica y el analisis de datos\n",
    "- Proporcionar arreglos de N dimenciones\n",
    "- Implementa funciones matematicas sofisticadas\n",
    "- Proporciona herramientas para integrar C/C++ y tabien Fortran\n",
    "- Proporciona mecanismos para facilitar la realizacion de tareas relacionadas con algebra lineal o numeros aleatorios"
   ]
  },
  {
   "cell_type": "markdown",
   "id": "e91b6bde-5d57-42dd-b6ee-408340316266",
   "metadata": {},
   "source": [
    "# IMPORTACIONES"
   ]
  },
  {
   "cell_type": "code",
   "execution_count": 3,
   "id": "8c103506-5334-4804-b369-450f44420168",
   "metadata": {},
   "outputs": [],
   "source": [
    "import numpy as np\n"
   ]
  },
  {
   "cell_type": "markdown",
   "id": "1465ed23-5287-45dd-b4d0-649dcffea6da",
   "metadata": {},
   "source": [
    "## Arrays\n",
    "Un array es una estructura de datos que consiste en una coleccion de elementos (valores o variables),\n",
    "cada uno identiicado por al menos un indice\n",
    "Un array se alamacena de modo que la posicion de cada elemento se pueda calcular a partir de su tupla indice mediante una formula matematica.\n",
    "\n",
    "El tipo mas simple de un arreglo es un array lineal, o tambien llamado array unidimencional.\n",
    "\n",
    "### En NumPy\n",
    "* cada dimension se denomina axis\n",
    "* el numero de dimenciones se denomina rank\n",
    "* La lista de miensiones con su correspondiente longitud se denomina shape\n",
    "* el numero total de elementos se denomina   size"
   ]
  },
  {
   "cell_type": "code",
   "execution_count": 8,
   "id": "323d2057-7277-44c5-b2dc-1b55e210f327",
   "metadata": {},
   "outputs": [
    {
     "name": "stdout",
     "output_type": "stream",
     "text": [
      "[[0. 0. 0. 0.]\n",
      " [0. 0. 0. 0.]]\n"
     ]
    }
   ],
   "source": [
    "# array cuyos valores son 0\n",
    "a=np.zeros((2,4))\n",
    "print(a)"
   ]
  },
  {
   "cell_type": "code",
   "execution_count": 11,
   "id": "793c9497-da89-43d6-b79d-ee44dd9b67e5",
   "metadata": {},
   "outputs": [
    {
     "name": "stdout",
     "output_type": "stream",
     "text": [
      "Requirement already satisfied: numpy in c:\\users\\kevin\\anaconda3\\lib\\site-packages (1.26.4)\n",
      "Note: you may need to restart the kernel to use updated packages.\n"
     ]
    }
   ],
   "source": [
    "pip install numpy\n"
   ]
  },
  {
   "cell_type": "markdown",
   "id": "1102c40b-f1cf-4724-aa6e-098afbfddb49",
   "metadata": {},
   "source": [
    "# a es un array\n",
    "- Con dos axis, el primer axis de llongitud 2 y el segundo de longiud 4\n",
    "- Con un rank igual a 2\n",
    "- con un shape igua a (2,4)\n",
    "- con un size de 8\n"
   ]
  },
  {
   "cell_type": "code",
   "execution_count": 14,
   "id": "673bfa96-13d3-47ec-bd51-054c17abf86c",
   "metadata": {},
   "outputs": [
    {
     "data": {
      "text/plain": [
       "(2, 4)"
      ]
     },
     "execution_count": 14,
     "metadata": {},
     "output_type": "execute_result"
    }
   ],
   "source": [
    "a.shape"
   ]
  },
  {
   "cell_type": "code",
   "execution_count": 16,
   "id": "f8a5cab1-6d96-4649-9338-dc1b35a257a1",
   "metadata": {},
   "outputs": [
    {
     "data": {
      "text/plain": [
       "2"
      ]
     },
     "execution_count": 16,
     "metadata": {},
     "output_type": "execute_result"
    }
   ],
   "source": [
    "a.ndim\n"
   ]
  },
  {
   "cell_type": "code",
   "execution_count": 18,
   "id": "8fc9558f-a324-4505-8a5d-8b0f47275e2e",
   "metadata": {},
   "outputs": [
    {
     "data": {
      "text/plain": [
       "8"
      ]
     },
     "execution_count": 18,
     "metadata": {},
     "output_type": "execute_result"
    }
   ],
   "source": [
    "a.size\n"
   ]
  },
  {
   "cell_type": "code",
   "execution_count": 22,
   "id": "7a4d5fd2-fef6-4acc-a4b9-946d49ad3723",
   "metadata": {},
   "outputs": [
    {
     "name": "stdout",
     "output_type": "stream",
     "text": [
      "[[[0. 0. 0. 0.]\n",
      "  [0. 0. 0. 0.]]\n",
      "\n",
      " [[0. 0. 0. 0.]\n",
      "  [0. 0. 0. 0.]]]\n"
     ]
    }
   ],
   "source": [
    "# 2 maricies de ceros\n",
    "a=np.zeros((2,2,4))\n",
    "print(a)"
   ]
  },
  {
   "cell_type": "code",
   "execution_count": 32,
   "id": "79eba2f8-c5d8-4bdb-870a-ac83e189ef9b",
   "metadata": {},
   "outputs": [
    {
     "name": "stdout",
     "output_type": "stream",
     "text": [
      "[[[1. 1. 1. 1.]\n",
      "  [1. 1. 1. 1.]]\n",
      "\n",
      " [[1. 1. 1. 1.]\n",
      "  [1. 1. 1. 1.]]\n",
      "\n",
      " [[1. 1. 1. 1.]\n",
      "  [1. 1. 1. 1.]]]\n"
     ]
    }
   ],
   "source": [
    "# 2 maricies de ceros\n",
    "a=np.ones((3,2,4))\n",
    "print(a)"
   ]
  },
  {
   "cell_type": "code",
   "execution_count": 34,
   "id": "77bd9c7a-2406-45aa-9a67-da5dd72c6ac9",
   "metadata": {},
   "outputs": [
    {
     "name": "stdout",
     "output_type": "stream",
     "text": [
      "[[[6 6 6 6]\n",
      "  [6 6 6 6]]\n",
      "\n",
      " [[6 6 6 6]\n",
      "  [6 6 6 6]]\n",
      "\n",
      " [[6 6 6 6]\n",
      "  [6 6 6 6]]]\n"
     ]
    }
   ],
   "source": [
    "# arrays cuyos valores son todos de un solo valor indicado como segundoa rgumento\n",
    "a = np.full((3, 2, 4), 6)\n",
    "print(a)"
   ]
  },
  {
   "cell_type": "code",
   "execution_count": 36,
   "id": "00ddbc41-96d9-494f-8f34-ea50db4d144e",
   "metadata": {},
   "outputs": [
    {
     "name": "stdout",
     "output_type": "stream",
     "text": [
      "[[[0.01714167 0.09332713 0.01762171 0.64845694]\n",
      "  [0.56767206 0.2832618  0.44010817 0.75381099]]\n",
      "\n",
      " [[0.40037339 0.4600458  0.76277696 0.21330456]\n",
      "  [0.06143329 0.03509044 0.84362763 0.6206718 ]]\n",
      "\n",
      " [[0.49254566 0.81630596 0.75526135 0.80604994]\n",
      "  [0.4686707  0.34441471 0.52202263 0.32741429]]]\n"
     ]
    }
   ],
   "source": [
    "# Crear un array de números aleatorios con forma (3, 2, 4)\n",
    "a = np.random.random((3, 2, 4))\n",
    "print(a)\n"
   ]
  },
  {
   "cell_type": "code",
   "execution_count": 40,
   "id": "ad05c354-b413-4e27-b4e3-c8b7f98daed7",
   "metadata": {},
   "outputs": [
    {
     "name": "stdout",
     "output_type": "stream",
     "text": [
      "[[0.19720218 0.37553813 0.57609596 0.17193413]\n",
      " [0.02879198 0.01208566 0.44039271 0.20321682]]\n"
     ]
    }
   ],
   "source": [
    "print (a[1]*a[2])"
   ]
  },
  {
   "cell_type": "code",
   "execution_count": 42,
   "id": "99f3300e-f059-49a9-815a-3d2cd367b3f6",
   "metadata": {},
   "outputs": [
    {
     "data": {
      "text/plain": [
       "array([[[8.38036381e-312, 5.43472210e-322, 0.00000000e+000],\n",
       "        [0.00000000e+000, 1.37961302e-306, 1.15998412e-028],\n",
       "        [4.31603868e-080, 1.94919985e-153, 3.98450763e+252]],\n",
       "\n",
       "       [[2.25566551e+137, 5.87769019e+135, 1.15874961e-028],\n",
       "        [7.36321615e+223, 1.06239598e-153, 3.98472821e+252],\n",
       "        [1.06244660e-153, 9.78750380e+199, 6.97843734e+252]]])"
      ]
     },
     "execution_count": 42,
     "metadata": {},
     "output_type": "execute_result"
    }
   ],
   "source": [
    "# el resultado de un np.empty no es predecible\n",
    "# inicializa los valores del array con lo que haya en memoria en ese momento\n",
    "np.empty((2,3,3))"
   ]
  },
  {
   "cell_type": "code",
   "execution_count": 48,
   "id": "fdd0db41-4df9-452c-a18b-2ff180415a46",
   "metadata": {},
   "outputs": [
    {
     "data": {
      "text/plain": [
       "array([[1, 2, 3],\n",
       "       [3, 4, 5]])"
      ]
     },
     "execution_count": 48,
     "metadata": {},
     "output_type": "execute_result"
    }
   ],
   "source": [
    "#Inicializamos l array utilizando un array de python\n",
    "b=np.array([[1,2,3],[3,4,5]])\n",
    "b"
   ]
  },
  {
   "cell_type": "code",
   "execution_count": 50,
   "id": "957b3f30-3d92-4fbf-a0eb-a094ade11c34",
   "metadata": {},
   "outputs": [
    {
     "data": {
      "text/plain": [
       "(2, 3)"
      ]
     },
     "execution_count": 50,
     "metadata": {},
     "output_type": "execute_result"
    }
   ],
   "source": [
    "b.shape"
   ]
  },
  {
   "cell_type": "code",
   "execution_count": 54,
   "id": "9835d184-98d6-419a-a2af-cf294d00edca",
   "metadata": {},
   "outputs": [
    {
     "name": "stdout",
     "output_type": "stream",
     "text": [
      "[0.         0.66666667 1.33333333 2.         2.66666667 3.33333333\n",
      " 4.         4.66666667 5.33333333 6.        ]\n"
     ]
    }
   ],
   "source": [
    "# Creaccion de Un arreglo utlizando una funcion basada en rangos.\n",
    "#quiere decir que le vamos a dar un minimo y un maximo y el numero de elemetos del array\n",
    "print(np.linspace(0,6,10))"
   ]
  },
  {
   "cell_type": "code",
   "execution_count": 58,
   "id": "34ce5ccd-fef0-4860-84c9-eb815843e481",
   "metadata": {},
   "outputs": [
    {
     "data": {
      "text/plain": [
       "array([[[ 0.22260236, -0.42107075, -0.80052207,  1.39993236],\n",
       "        [ 0.57578896, -0.16935796,  1.87289863,  0.92628109],\n",
       "        [-0.72756341, -0.02932001, -2.04811322,  0.20346215]],\n",
       "\n",
       "       [[-0.40119376,  0.4635352 , -0.40127473, -1.25847772],\n",
       "        [ 0.39914859, -0.22876382,  0.70614627, -0.38148655],\n",
       "        [-1.04856818, -1.15022779, -0.3652623 , -0.70842271]]])"
      ]
     },
     "execution_count": 58,
     "metadata": {},
     "output_type": "execute_result"
    }
   ],
   "source": [
    "#Inicializar un arreglo con valores aleatorios\n",
    "np.random.randn(2,3,4)"
   ]
  },
  {
   "cell_type": "code",
   "execution_count": 60,
   "id": "2d465717-dad7-4a10-8343-535f06291484",
   "metadata": {},
   "outputs": [
    {
     "data": {
      "text/plain": [
       "array([[[0.50412439, 0.99844617, 0.69829412, 0.44933611],\n",
       "        [0.50337033, 0.73944482, 0.81719568, 0.73349262],\n",
       "        [0.98617691, 0.18763695, 0.59413951, 0.7406267 ]],\n",
       "\n",
       "       [[0.56065261, 0.26191509, 0.16390394, 0.13442063],\n",
       "        [0.10010425, 0.29015003, 0.55898102, 0.5471739 ],\n",
       "        [0.58150171, 0.16104966, 0.17481504, 0.62408822]]])"
      ]
     },
     "execution_count": 60,
     "metadata": {},
     "output_type": "execute_result"
    }
   ],
   "source": [
    "#Inicializar un arreglo con valores aleatorios\n",
    "np.random.rand(2,3,4)"
   ]
  },
  {
   "cell_type": "code",
   "execution_count": 6,
   "id": "29814ab6-6cdf-476b-bb53-82a63a1549b0",
   "metadata": {},
   "outputs": [
    {
     "name": "stdout",
     "output_type": "stream",
     "text": [
      "[[ 1  6 12]\n",
      " [11 10 18]\n",
      " [19 18  5]]\n",
      "el numero mayor es:  19\n",
      "el numero menor es:  1\n"
     ]
    }
   ],
   "source": [
    "#gerar una matriz de numeros randomicos y que me encuentre el numero mayor y menor de esa matriz\n",
    "a=np.random.randint(1,20,size=(3,3))\n",
    "mayor=np.max(a)\n",
    "menor=np.min(a)\n",
    "print(a)\n",
    "print(\"el numero mayor es: \",mayor)\n",
    "print(\"el numero menor es: \",menor)"
   ]
  },
  {
   "cell_type": "code",
   "execution_count": null,
   "id": "b1a90403-d9a8-43a2-87c3-15e9ff0e9ab5",
   "metadata": {},
   "outputs": [],
   "source": []
  }
 ],
 "metadata": {
  "kernelspec": {
   "display_name": "Python [conda env:base] *",
   "language": "python",
   "name": "conda-base-py"
  },
  "language_info": {
   "codemirror_mode": {
    "name": "ipython",
    "version": 3
   },
   "file_extension": ".py",
   "mimetype": "text/x-python",
   "name": "python",
   "nbconvert_exporter": "python",
   "pygments_lexer": "ipython3",
   "version": "3.12.7"
  }
 },
 "nbformat": 4,
 "nbformat_minor": 5
}
